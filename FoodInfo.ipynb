{
 "cells": [
  {
   "cell_type": "code",
   "execution_count": null,
   "metadata": {
    "collapsed": true
   },
   "outputs": [],
   "source": [
    "\n",
    "import pandas\n",
    "food_info = pandas.read_csv(\"food_info.csv\")\n",
    "col_names = food_info.columns.tolist()\n",
    "print(col_names)\n",
    "print(food_info[0:3])\n",
    "\n",
    "## 2. Transforming a Column ##\n",
    "\n",
    "div_1000 = food_info[\"Iron_(mg)\"] / 1000\n",
    "add_100 = food_info[\"Iron_(mg)\"] + 100\n",
    "sub_100 = food_info[\"Iron_(mg)\"] - 100\n",
    "mult_2 = food_info[\"Iron_(mg)\"]*2\n",
    "sodium_grams = food_info[\"Sodium_(mg)\"] /1000\n",
    "sugar_milligrams = food_info[\"Sugar_Tot_(g)\"]* 1000\n",
    "\n",
    "## 3. Performing Math with Multiple Columns ##\n",
    "\n",
    "water_energy = food_info[\"Water_(g)\"] * food_info[\"Energ_Kcal\"]\n",
    "print(water_energy[0:5])\n",
    "grams_of_protein_per_gram_of_water = food_info[\"Protein_(g)\"] / food_info[\"Water_(g)\"]\n",
    "milligrams_of_calcium_and_iron = food_info[\"Calcium_(mg)\"] + food_info[\"Iron_(mg)\"]\n",
    "\n",
    "## 4. Create a Nutritional Index ##\n",
    "\n",
    "weighted_protein = food_info[\"Protein_(g)\"]*2\n",
    "weighted_fat = food_info[\"Lipid_Tot_(g)\"] * (-0.75)\n",
    "initial_rating = weighted_protein + weighted_fat\n",
    "\n",
    "## 5. Normalizing Columns in a Data Set ##\n",
    "\n",
    "print(food_info[\"Protein_(g)\"][0:5])\n",
    "max_protein = food_info[\"Protein_(g)\"].max()\n",
    "normalized_protein = food_info[\"Protein_(g)\"] / max_protein\n",
    "max_fat = food_info[\"Lipid_Tot_(g)\"].max()\n",
    "normalized_fat = food_info[\"Lipid_Tot_(g)\"] / max_fat\n",
    "\n",
    "## 6. Creating a New Column ##\n",
    "\n",
    "food_info[\"Normalized_Protein\"] = normalized_protein\n",
    "food_info[\"Normalized_Fat\"] = normalized_fat\n",
    "\n",
    "## 7. Create a Normalized Nutritional Index ##\n",
    "\n",
    "food_info[\"Normalized_Protein\"] = food_info[\"Protein_(g)\"] / food_info[\"Protein_(g)\"].max()\n",
    "food_info[\"Normalized_Fat\"] = food_info[\"Lipid_Tot_(g)\"] / food_info[\"Lipid_Tot_(g)\"].max()\n",
    "food_info[\"Norm_Nutr_Index\"] = (2*food_info[\"Normalized_Protein\"]) -(0.75*food_info[\"Normalized_Fat\"])\n",
    "\n",
    "## 8. Sorting a DataFrame by a Column ##\n",
    "\n",
    "food_info[\"Normalized_Protein\"] = food_info[\"Protein_(g)\"] / food_info[\"Protein_(g)\"].max()\n",
    "food_info[\"Normalized_Fat\"] = food_info[\"Lipid_Tot_(g)\"] / food_info[\"Lipid_Tot_(g)\"].max()\n",
    "food_info[\"Norm_Nutr_Index\"] = 2*food_info[\"Normalized_Protein\"] + (-0.75*food_info[\"Normalized_Fat\"])\n",
    "food_info.sort_values(\"Norm_Nutr_Index\", inplace = True, ascending = False)"
   ]
  }
 ],
 "metadata": {
  "anaconda-cloud": {},
  "kernelspec": {
   "display_name": "Python [conda root]",
   "language": "python",
   "name": "conda-root-py"
  },
  "language_info": {
   "codemirror_mode": {
    "name": "ipython",
    "version": 2
   },
   "file_extension": ".py",
   "mimetype": "text/x-python",
   "name": "python",
   "nbconvert_exporter": "python",
   "pygments_lexer": "ipython2",
   "version": "2.7.12"
  }
 },
 "nbformat": 4,
 "nbformat_minor": 1
}
